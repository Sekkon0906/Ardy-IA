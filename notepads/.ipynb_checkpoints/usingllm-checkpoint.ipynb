{
 "cells": [
  {
   "cell_type": "code",
   "execution_count": null,
   "metadata": {},
   "outputs": [],
   "source": [
    "import os\n",
    "import requests\n",
    "from typing import Type\n",
    "from crewai.tools import BaseTool\n",
    "from pydantic import BaseModel, Field"
   ]
  },
  {
   "cell_type": "code",
   "execution_count": 2,
   "metadata": {},
   "outputs": [],
   "source": [
    "from dotenv import load_dotenv\n",
    "load_dotenv()\n",
    "from crewai import LLM\n",
    "\n",
    "model_provider = os.getenv(\"MODEL_PROVIDER\", \"openai\").lower()\n",
    "\n",
    "if model_provider == \"ollama\":\n",
    "    llm = LLM(\n",
    "        model=f\"ollama/{os.getenv('OLLAMA_MODEL', 'llama2')}\",\n",
    "        base_url=os.getenv(\"OLLAMA_API_URL\", \"http://localhost:11434/api\"),\n",
    "    )\n",
    "else:\n",
    "    llm = LLM(\n",
    "        model=os.getenv(\"OPENAI_MODEL\", \"gpt-4o-mini\"),\n",
    "        api_key=os.getenv(\"OPENAI_API_KEY\"),\n",
    "    )"
   ]
  },
  {
   "cell_type": "code",
   "execution_count": 3,
   "metadata": {},
   "outputs": [
    {
     "name": "stdout",
     "output_type": "stream",
     "text": [
      "Using OLLAMA via ollama/llama2\n"
     ]
    }
   ],
   "source": [
    "print(f\"Using {model_provider.upper()} via {llm.model}\")"
   ]
  },
  {
   "cell_type": "code",
   "execution_count": 4,
   "metadata": {},
   "outputs": [
    {
     "name": "stdout",
     "output_type": "stream",
     "text": [
      " Hello there! *adjusts glasses* It's a pleasure to meet you. As a currency analyst agent, I'm here to provide you with the latest market insights and help you make informed investment decisions. What can I assist you with today?\n"
     ]
    }
   ],
   "source": [
    "print(llm.call(\"Say hello from the currency analyst agent!\"))"
   ]
  },
  {
   "cell_type": "code",
   "execution_count": 5,
   "metadata": {},
   "outputs": [],
   "source": [
    "class CurrencyConverterInput(BaseModel):\n",
    "    \"\"\"Input schema for CurrencyConverterTool.\"\"\"\n",
    "    amount: float = Field(..., description=\"The amount to convert.\")\n",
    "    from_currency: str = Field(..., description=\"The source currency code (e.g., 'USD').\")\n",
    "    to_currency: str = Field(..., description=\"The target currency code (e.g., 'EUR').\")\n"
   ]
  },
  {
   "cell_type": "code",
   "execution_count": 6,
   "metadata": {},
   "outputs": [],
   "source": [
    "\n",
    "class CurrencyConverterTool(BaseTool):\n",
    "    name: str = \"currency_converter\"\n",
    "    description: str = \"Converts an amount from one currency to another.\"\n",
    "    args_schema: Type[BaseModel] = CurrencyConverterInput\n",
    "    #api_key: str = os.getenv(\"EXCHANGE_RATE_API_KEY\")\n",
    "\n",
    "    # _run is part of the class!\n",
    "\n",
    "    def _run(self, amount: float, from_currency: str, to_currency: str) -> str:\n",
    "        url = f\"https://api.exchangerate.host/convert?from={from_currency}&to={to_currency}&amount={amount}\"\n",
    "        response = requests.get(url)\n",
    "        if response.status_code != 200:\n",
    "            return \"Failed to fetch exchange rates.\"\n",
    "        data = response.json()\n",
    "        if \"result\" not in data:\n",
    "            return \"Invalid currency codes or API error.\"\n",
    "        converted_amount = data[\"result\"]\n",
    "        return f\"{amount} {from_currency} = {converted_amount:.2f} {to_currency}\"\n"
   ]
  },
  {
   "cell_type": "code",
   "execution_count": null,
   "metadata": {},
   "outputs": [],
   "source": [
    "from crewai import Agent\n",
    "\n",
    "currency_analyst = Agent(\n",
    "    role=\"Currency Analyst\",\n",
    "    goal=\"Provide real-time currency conversions and financial insights.\",\n",
    "    backstory=(\n",
    "        \"You are a finance expert with deep knowledge of global exchange rates.\"\n",
    "        \" You help users with currency conversion and financial decision-making.\"\n",
    "    ),\n",
    "    tools=[CurrencyConverterTool()],\n",
    "    allow_delegation=False,\n",
    "    llm=llm,\n",
    "    model=\"ollama/llama2\",\n",
    "    verbose=True\n",
    ")\n"
   ]
  },
  {
   "cell_type": "code",
   "execution_count": 11,
   "metadata": {},
   "outputs": [],
   "source": [
    "from crewai import Task\n",
    "\n",
    "currency_conversion_task = Task(\n",
    "    description=(\n",
    "        \"Use the currency_converter tool to convert {amount} {from_currency} \"\n",
    "        \"to {to_currency}. \"\n",
    "        \"Provide the equivalent amount and briefly explain any relevant \"\n",
    "        \"financial or market context (like rate trends or volatility).\"\n",
    "    ),\n",
    "    expected_output=(\n",
    "        \"A detailed response including the converted amount, \"\n",
    "        \"exchange rate used, and short financial insight.\"\n",
    "    ),\n",
    "    agent=currency_analyst\n",
    ")\n"
   ]
  },
  {
   "cell_type": "code",
   "execution_count": 12,
   "metadata": {},
   "outputs": [
    {
     "name": "stdout",
     "output_type": "stream",
     "text": [
      "\u001b[91m\n",
      "\n",
      "Action 'Use the currency_converter tool to convert 100 USD to EUR.' don't exist, these are the only available Actions:\n",
      "Tool Name: currency_converter\n",
      "Tool Arguments: {'amount': {'description': 'The amount to convert.', 'type': 'float'}, 'from_currency': {'description': \"The source currency code (e.g., 'USD').\", 'type': 'str'}, 'to_currency': {'description': \"The target currency code (e.g., 'EUR').\", 'type': 'str'}}\n",
      "Tool Description: Converts an amount from one currency to another.\n",
      "\u001b[0m\n",
      "\u001b[91m\n",
      "\n",
      "Action 'Use the currency_converter tool to convert 100 USD to EUR.' don't exist, these are the only available Actions:\n",
      "Tool Name: currency_converter\n",
      "Tool Arguments: {'amount': {'description': 'The amount to convert.', 'type': 'float'}, 'from_currency': {'description': \"The source currency code (e.g., 'USD').\", 'type': 'str'}, 'to_currency': {'description': \"The target currency code (e.g., 'EUR').\", 'type': 'str'}}\n",
      "Tool Description: Converts an amount from one currency to another.\n",
      "\u001b[0m\n",
      "\u001b[91m\n",
      "\n",
      "Action 'Use the currency_converter tool to convert 100 USD to EUR.' don't exist, these are the only available Actions:\n",
      "Tool Name: currency_converter\n",
      "Tool Arguments: {'amount': {'description': 'The amount to convert.', 'type': 'float'}, 'from_currency': {'description': \"The source currency code (e.g., 'USD').\", 'type': 'str'}, 'to_currency': {'description': \"The target currency code (e.g., 'EUR').\", 'type': 'str'}}\n",
      "Tool Description: Converts an amount from one currency to another.\n",
      "\u001b[0m\n",
      "\u001b[91m\n",
      "\n",
      "Action 'Use the currency_converter tool to convert 100 USD to EUR.' don't exist, these are the only available Actions:\n",
      "Tool Name: currency_converter\n",
      "Tool Arguments: {'amount': {'description': 'The amount to convert.', 'type': 'float'}, 'from_currency': {'description': \"The source currency code (e.g., 'USD').\", 'type': 'str'}, 'to_currency': {'description': \"The target currency code (e.g., 'EUR').\", 'type': 'str'}}\n",
      "Tool Description: Converts an amount from one currency to another.\n",
      "\u001b[0m\n",
      "\u001b[91m\n",
      "\n",
      "Action 'Use the currency_converter tool to convert 100 USD to EUR.' don't exist, these are the only available Actions:\n",
      "Tool Name: currency_converter\n",
      "Tool Arguments: {'amount': {'description': 'The amount to convert.', 'type': 'float'}, 'from_currency': {'description': \"The source currency code (e.g., 'USD').\", 'type': 'str'}, 'to_currency': {'description': \"The target currency code (e.g., 'EUR').\", 'type': 'str'}}\n",
      "Tool Description: Converts an amount from one currency to another.\n",
      "\u001b[0m\n",
      "\u001b[91m\n",
      "\n",
      "Action 'Use the currency_converter tool to convert 100 USD to EUR.' don't exist, these are the only available Actions:\n",
      "Tool Name: currency_converter\n",
      "Tool Arguments: {'amount': {'description': 'The amount to convert.', 'type': 'float'}, 'from_currency': {'description': \"The source currency code (e.g., 'USD').\", 'type': 'str'}, 'to_currency': {'description': \"The target currency code (e.g., 'EUR').\", 'type': 'str'}}\n",
      "Tool Description: Converts an amount from one currency to another.\n",
      "\u001b[0m\n",
      "\u001b[91m\n",
      "\n",
      "Action 'Use the currency_converter tool to convert 100 USD to EUR.' don't exist, these are the only available Actions:\n",
      "Tool Name: currency_converter\n",
      "Tool Arguments: {'amount': {'description': 'The amount to convert.', 'type': 'float'}, 'from_currency': {'description': \"The source currency code (e.g., 'USD').\", 'type': 'str'}, 'to_currency': {'description': \"The target currency code (e.g., 'EUR').\", 'type': 'str'}}\n",
      "Tool Description: Converts an amount from one currency to another.\n",
      "\u001b[0m\n",
      "\u001b[91m\n",
      "\n",
      "Action 'Use the currency_converter tool to convert 100 USD to EUR.' don't exist, these are the only available Actions:\n",
      "Tool Name: currency_converter\n",
      "Tool Arguments: {'amount': {'description': 'The amount to convert.', 'type': 'float'}, 'from_currency': {'description': \"The source currency code (e.g., 'USD').\", 'type': 'str'}, 'to_currency': {'description': \"The target currency code (e.g., 'EUR').\", 'type': 'str'}}\n",
      "Tool Description: Converts an amount from one currency to another.\n",
      "\u001b[0m\n"
     ]
    }
   ],
   "source": [
    "from crewai import Crew, Process\n",
    "\n",
    "crew = Crew(\n",
    "    agents=[currency_analyst],\n",
    "    tasks=[currency_conversion_task],\n",
    "    process=Process.sequential\n",
    ")\n",
    "\n",
    "response = crew.kickoff(inputs={\"amount\": 100,\n",
    "                                \"from_currency\": \"USD\",\n",
    "                                \"to_currency\": \"EUR\"})\n"
   ]
  },
  {
   "cell_type": "code",
   "execution_count": 10,
   "metadata": {},
   "outputs": [
    {
     "name": "stdout",
     "output_type": "stream",
     "text": [
      "El euro es la moneda oficial de la Unión Europea, utilizada en 19 países europeos, mientras que el dólar es la moneda oficial de los Estados Unidos. Aunque ambos son importantes para las finanzas internacionales, hay algunas diferencias clave entre ellos:\n",
      "\n",
      "1. Área de uso: El euro es utilizado por 340 millones de personas en 19 países europeos, mientras que el dólar es utilizado por más de 300 millones de personas en los Estados Unidos y algunos otros países.\n",
      "2. Valor: El valor del euro en comparación con el dólar puede variar debido a las fluctuaciones económicas y políticas en Europa y América del Norte. En general, el euro es considerado una moneda más fuerte que el dólar en términos de poder adquisitivo.\n",
      "3. Estructura: El euro es una moneda única y estándar utilizada por todos los miembros de la Zona Euro, mientras que el dólar es una moneda nacional con una estructura más compleja que incluye diversas denominaciones regionales (dólar estadounidense, canadiense, australiano, etc.).\n",
      "4. Gobierno: El gobierno de la Unión Europea es responsable del uso y emitencia del euro, mientras que el gobierno federal de los Estados Unidos es responsable del uso y emisión del dólar.\n",
      "5. History: El euro se creó en 1999 como una moneda única para los miembros de la Zona Euro, mientras que el dólar fue creado en 1792 como la moneda oficial de los Estados Unidos.\n",
      "6. Circulación: El euro es utilizado en una amplia gama de transacciones y actividades financieras, incluyendo comercio internacional, inversiones, préstamos y transferencias de fondos entre miembros de la Zona Euro. En cambio, el dólar es utilizado ampliamente en el comercio internacional y en las finanzas internacionales, pero también se utiliza como moneda local en los Estados Unidos y algunos otros países.\n",
      "7. Liquididad: El euro es una moneda más liquid que el dólar debido a la mayor cantidad de usuarios y transacciones que se realizan en él.\n",
      "8. Rentabilidad: El euro puede tener un mayor potencial de rentabilidad para los inversores debido a su estructura y el conjunto de políticas monetarias comunes de la Unión Europea.\n",
      "9. Dependencia: Los países miembros de la Zona Euro están dependencies del euro, lo que significa que no pueden controlar directamente su valor o emisión. En cambio, los Estados Unidos tienen más control sobre su moneda nacional.\n",
      "10. Diferenciación: El euro y el dólar se diferencian en términos de sus estructuras monetarias, políticas y culturales, lo que puede afectar la percepción y el uso de ambas monedas en diferentes contextos.\n"
     ]
    }
   ],
   "source": [
    "response = currency_analyst.llm.call(\"Dime una breve descripción del euro frente al dólar.\")\n",
    "print(response)"
   ]
  },
  {
   "cell_type": "code",
   "execution_count": null,
   "metadata": {},
   "outputs": [],
   "source": []
  }
 ],
 "metadata": {
  "kernelspec": {
   "display_name": ".venv",
   "language": "python",
   "name": "python3"
  },
  "language_info": {
   "codemirror_mode": {
    "name": "ipython",
    "version": 3
   },
   "file_extension": ".py",
   "mimetype": "text/x-python",
   "name": "python",
   "nbconvert_exporter": "python",
   "pygments_lexer": "ipython3",
   "version": "3.11.9"
  }
 },
 "nbformat": 4,
 "nbformat_minor": 4
}
